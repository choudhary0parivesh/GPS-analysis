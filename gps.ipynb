{
 "cells": [
  {
   "cell_type": "code",
   "execution_count": 36,
   "metadata": {},
   "outputs": [],
   "source": [
    "import gpxpy\n",
    "import pandas as pd\n",
    "from math import sin, cos, sqrt, atan2, radians\n",
    "\n",
    "# Load gpx.\n",
    "gpx_path = '/home/plutonium/Downloads/TTT-2021-07-06.gpx'\n",
    "with open(gpx_path) as f:\n",
    "    gpx = gpxpy.parse(f)\n",
    "\n",
    "# Convert to a dataframe one point at a time.\n",
    "points = []\n",
    "for segment in gpx.tracks[0].segments:\n",
    "    for p in segment.points:\n",
    "        points.append({\n",
    "            'time': p.time,\n",
    "            'latitude': p.latitude,\n",
    "            'longitude': p.longitude,\n",
    "            'elevation': p.elevation,\n",
    "        })\n",
    "df = pd.DataFrame.from_records(points)"
   ]
  },
  {
   "cell_type": "code",
   "execution_count": 37,
   "metadata": {},
   "outputs": [
    {
     "name": "stdout",
     "output_type": "stream",
     "text": [
      "                                   time   latitude  longitude   elevation\n",
      "0      2019-10-16 07:33:57.713000+00:00  26.509767  80.228359   90.438354\n",
      "1      2019-10-16 07:35:01.699000+00:00  26.509944  80.228292   79.934082\n",
      "2      2019-10-16 08:12:38.930000+00:00  26.510029  80.228359   71.294617\n",
      "3      2019-10-16 08:13:40.312000+00:00  26.510034  80.228359   67.496948\n",
      "4      2019-10-16 08:14:26.353000+00:00  26.509743  80.228763   57.822266\n",
      "...                                 ...        ...        ...         ...\n",
      "290077 2021-06-25 13:54:50.942000+00:00  23.154134  79.940585  355.312866\n",
      "290078 2021-06-25 13:57:21.278000+00:00  23.159229  79.937711  346.602600\n",
      "290079 2021-06-26 11:18:53.244000+00:00  23.166287  79.938355  359.709106\n",
      "290080 2021-07-02 12:54:21.230000+00:00  23.163402  79.936641  369.012451\n",
      "290081 2021-07-02 12:57:37.242000+00:00  23.159404  79.937618  367.442871\n",
      "\n",
      "[290082 rows x 4 columns]\n",
      "290082\n"
     ]
    }
   ],
   "source": [
    "print(df)\n",
    "print(len(df))"
   ]
  },
  {
   "cell_type": "code",
   "execution_count": 69,
   "metadata": {},
   "outputs": [],
   "source": [
    "d = 0\n",
    "R = 6373.0\n",
    "distance =0\n",
    "\n",
    "i = 0 \n",
    "for i in range(len(df)-1):\n",
    "    slat = radians(df.latitude[i])\n",
    "    slon = radians(df.longitude[i])\n",
    "    elat = radians(df.latitude[i+1])\n",
    "    elon = radians(df.longitude[i+1])\n",
    "    dlat = -1*(slat - elat)\n",
    "    dlon = -1*(slon - elon)\n",
    "    a = sin(dlat / 2)**2 + cos(slat) * cos(elat) * sin(dlon / 2)**2\n",
    "    c = 2 * atan2(sqrt(a), sqrt(1 - a))\n",
    "\n",
    "    distance = R * c + distance"
   ]
  },
  {
   "cell_type": "code",
   "execution_count": 75,
   "metadata": {},
   "outputs": [
    {
     "name": "stdout",
     "output_type": "stream",
     "text": [
      "8375.914812973508\n"
     ]
    }
   ],
   "source": [
    "print(distance)"
   ]
  },
  {
   "cell_type": "code",
   "execution_count": 76,
   "metadata": {},
   "outputs": [
    {
     "data": {
      "text/plain": [
       "[<matplotlib.lines.Line2D at 0x7f857cae1a20>]"
      ]
     },
     "execution_count": 76,
     "metadata": {},
     "output_type": "execute_result"
    },
    {
     "data": {
      "image/png": "[encoded data removed]",
      "text/plain": [
       "<Figure size 640x480 with 1 Axes>"
      ]
     },
     "metadata": {},
     "output_type": "display_data"
    }
   ],
   "source": [
    "import matplotlib.pyplot as plt\n",
    "import numpy as np\n",
    "\n",
    "\n",
    "plt.plot(np.arange(0, len(df), 1), df.elevation)"
   ]
  },
  {
   "cell_type": "code",
   "execution_count": null,
   "metadata": {},
   "outputs": [],
   "source": []
  }
 ],
 "metadata": {
  "kernelspec": {
   "display_name": "Python 3",
   "language": "python",
   "name": "python3"
  },
  "language_info": {
   "codemirror_mode": {
    "name": "ipython",
    "version": 3
   },
   "file_extension": ".py",
   "mimetype": "text/x-python",
   "name": "python",
   "nbconvert_exporter": "python",
   "pygments_lexer": "ipython3",
   "version": "3.10.6"
  },
  "orig_nbformat": 4,
  "vscode": {
   "interpreter": {
    "hash": "916dbcbb3f70747c44a77c7bcd40155683ae19c65e1c03b4aa3499c5328201f1"
   }
  }
 },
 "nbformat": 4,
 "nbformat_minor": 2
}
